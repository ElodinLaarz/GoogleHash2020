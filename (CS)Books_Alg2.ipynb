{
 "cells": [
  {
   "cell_type": "code",
   "execution_count": 0,
   "metadata": {
    "collapsed": false
   },
   "outputs": [
   ],
   "source": [
    "l = []\n",
    "t = sum(l);t"
   ]
  },
  {
   "cell_type": "code",
   "execution_count": 0,
   "metadata": {
    "collapsed": false
   },
   "outputs": [
   ],
   "source": [
    "import numpy as np\n",
    "\n",
    "# {k:v} where k is the book index and v is the value/score of that book\n",
    "value_of_each_book = {}\n",
    "books_associated_to_library = []\n",
    "\n",
    "total_collection_of_libraries = []\n",
    "\n",
    "inFile = 'data/a_example.txt'\n",
    "\n",
    "# skewed to the right\n",
    "probability_of_choosing_library = []\n",
    "\n",
    "# will contain the first line: num books, num libraries, total days\n",
    "initial_information = []\n",
    "\n",
    "class Library(object):\n",
    "    def __init__(self, library_key, setup_time, books_per_day, total_days):\n",
    "        self.key = library_key\n",
    "        self.collection_of_submitted_books = []\n",
    "        self.books_per_day = books_per_day\n",
    "        self.setup_time = setup_time\n",
    "        self.score = self.scoring(total_days)\n",
    "    def __str__(self):\n",
    "        string_of_books = ''\n",
    "        for s in self.collection_of_submitted_books:\n",
    "            string_of_books += str(s) + ' '\n",
    "        return f'{self.key} {len(self.collection_of_submitted_books)}\\n'+string_of_books+'\\n'\n",
    "    def __repr__(self):\n",
    "        return f'{self.score_value}'\n",
    "\n",
    "    def books_submitted(self,days_left):\n",
    "        num_books = (days_left-self.setup_time)*self.books_per_day\n",
    "        if num_books <= 0:\n",
    "            self.collection_of_submitted_books = []\n",
    "        elif num_books < len(books_associated_to_library[self.key]):\n",
    "            self.collection_of_submitted_books = books_associated_to_library[self.key][:num_books]\n",
    "        else:\n",
    "            self.collection_of_submitted_books = books_associated_to_library[self.key][:]\n",
    "        return self.collection_of_submitted_books\n",
    "\n",
    "    def scoring(self,days_left):\n",
    "        self.books_submitted(days_left)\n",
    "        self.score = sum(list(map(lambda x: value_of_each_book[x],self.collection_of_submitted_books)))\n",
    "        return self.score\n",
    "\n",
    "def create_sorted_prob_list(size = 1, dist = np.random.uniform, **kwargs):\n",
    "    prob_list = sorted(dist(size = size, **kwargs))\n",
    "    total = sum(prob_list)\n",
    "    prob_list = prob_list/total\n",
    "    return prob_list\n",
    "\n",
    "with open(inFile,'r') as input_file:\n",
    "    # num books, num libraries, total days\n",
    "    initial_information = list(map(int,input_file.readline().split()))\n",
    "    probability_of_choosing_library = create_sorted_prob_list(size=initial_information[1],\n",
    "                                                              dist=np.random.exponential, scale = 0.0001) # Not entirely sure why this scale is chosen\n",
    "    # Put the book:score values into a dictionary\n",
    "    order = list(map(int,input_file.readline().split()))\n",
    "    for i in range(initial_information[0]):\n",
    "        value_of_each_book[i] = order[i]\n",
    "\n",
    "    # Build the array of libraries\n",
    "    for library_index in range(initial_information[1]):\n",
    "        #num books, setup time, max books per day\n",
    "        current_library_information = list(map(int,input_file.readline().split()))\n",
    "        books_in_current_library = list(map(int,input_file.readline().split()))\n",
    "        books_associated_to_library.append(sorted(books_in_current_library,key=lambda b: value_of_each_book[b]))\n",
    "\n",
    "#         for book in books_associated_to_library[-1]:\n",
    "#             # check if dictionary already has a value and associate the library to the book\n",
    "#             if libraries_associated_to_book.get(book):\n",
    "#                 libraries_associated_to_book[book].append(library_index)\n",
    "#             else:\n",
    "#                 libraries_associated_to_book[book] = [library_index]\n",
    "        # add a library object to our total collection\n",
    "        total_collection_of_libraries.append(Library(library_index,current_library_information[1],current_library_information[2],initial_information[2]))\n",
    "\n",
    "# sort the list of library objects\n",
    "total_collection_of_libraries = sorted(total_collection_of_libraries,key=lambda lib: lib.score)\n",
    "\n",
    "libraries_sorted_index_associated_to_book = {}\n",
    "for sorted_index,library in enumerate(total_collection_of_libraries):\n",
    "    for book in books_associated_to_library[library.key]:\n",
    "        if libraries_sorted_index_associated_to_book.get(book):\n",
    "            libraries_sorted_index_associated_to_book[book].append(sorted_index)\n",
    "        else:\n",
    "            libraries_sorted_index_associated_to_book[book] = [sorted_index]\n",
    "\n",
    "library_indices = [i for i in range(len(total_collection_of_libraries))]\n",
    "factor = 0.5\n",
    "libraries_to_submit = []\n",
    "time_remaining = initial_information[2]\n",
    "\n",
    "#IM ALL IN YOUR LOOP\n",
    "while time_remaining > 1 and not all(probability_of_choosing_library == 0):\n",
    "    # choose with probability\n",
    "    # note: try to keep in mind when using the index of the sorted array or the\n",
    "    # key of the library (index of unsorted array)\n",
    "    probability_of_choosing_library = probability_of_choosing_library/sum(probability_of_choosing_library)\n",
    "    random_index = np.random.choice(library_indices,p=probability_of_choosing_library)\n",
    "    random_library_choice = total_collection_of_libraries[random_index]\n",
    "\n",
    "    # do not choose the same library again\n",
    "    probability_of_choosing_library[random_index] = 0\n",
    "\n",
    "    # setup time check is there to avoid scoring unnecessarily\n",
    "    if random_library_choice.setup_time < time_remaining and random_library_choice.scoring(time_remaining) > 0:\n",
    "        libraries_to_submit.append(random_library_choice)\n",
    "        for book in random_library_choice.collection_of_submitted_books:\n",
    "            for library_index in libraries_sorted_index_associated_to_book[book]:\n",
    "                if library_index != random_index:\n",
    "                    books_associated_to_library[total_collection_of_libraries[library_index].key].remove(book)\n",
    "                    probability_of_choosing_library[library_index]*=factor #does not take into account the score of the book\n",
    "        time_remaining -= random_library_choice.setup_time\n",
    "# print(sum(list(map(lambda x: x.score,libraries_to_submit))))\n",
    "with open('a_out.out','w') as output_file:\n",
    "    output_file.write(f'{len(libraries_to_submit)}\\n')\n",
    "    for cur_library_to_print in libraries_to_submit:\n",
    "        output_file.write(str(cur_library_to_print))"
   ]
  },
  {
   "cell_type": "code",
   "execution_count": 0,
   "metadata": {
    "collapsed": false
   },
   "outputs": [
   ],
   "source": [
   ]
  },
  {
   "cell_type": "code",
   "execution_count": 0,
   "metadata": {
    "collapsed": false
   },
   "outputs": [
   ],
   "source": [
   ]
  },
  {
   "cell_type": "code",
   "execution_count": 0,
   "metadata": {
    "collapsed": false
   },
   "outputs": [
   ],
   "source": [
    "sorted_all_the_libraries = sorted(all_the_libraries,key=lambda lib: lib.score_value);all_the_libraries[-1:]"
   ]
  },
  {
   "cell_type": "code",
   "execution_count": 0,
   "metadata": {
    "collapsed": false
   },
   "outputs": [
   ],
   "source": [
    "# library_books_copy = library_books.copy()\n",
    "# books_libs_copy = books_libs.copy()\n",
    "# sorted_copy = sorted_all_the_libraries[:]\n",
    "indicies = [i for i in range(len(sorted_copy))]\n",
    "# prob_copy = prob_list[:]\n",
    "\n",
    "# print(len(sorted_copy),len(prob_copy))\n",
    "factor = 0.99\n",
    "selected_libs = []\n",
    "time_remaining = t[2]\n",
    "#IM ALL IN YOUR LOOP\n",
    "while time_remaining > 0:\n",
    "    #choose with probability (with index)\n",
    "    index = np.random.choice(indicies,p=prob_list)\n",
    "    choice = sorted_all_the_libraries[index]\n",
    "    prob_list[index] = 0\n",
    "    if choice.setup_time < time_remaining:\n",
    "        selected_libs.append(choice)\n",
    "        #update probs\n",
    "        for book in choice.books_submitted(time_remaining):\n",
    "            for lib_index in books_libs[book]:\n",
    "                library_books[lib_index].remove(book)\n",
    "                prob_list[lib_index]*=factor #does not look at points of book\n",
    "            del books_libs[book]\n",
    "            time_remaining -= choice.setup_time\n",
    "    prob_list = prob_list/sum(prob_list)"
   ]
  },
  {
   "cell_type": "code",
   "execution_count": 0,
   "metadata": {
    "collapsed": false
   },
   "outputs": [
   ],
   "source": [
    "for i,j in enumerate('abc'.split()):\n",
    "    print(i,j)"
   ]
  },
  {
   "cell_type": "code",
   "execution_count": 0,
   "metadata": {
    "collapsed": false
   },
   "outputs": [
   ],
   "source": [
    "#Seth Likes Them Test Cases\n",
    "selected_libs[0]"
   ]
  },
  {
   "cell_type": "code",
   "execution_count": 0,
   "metadata": {
    "collapsed": false
   },
   "outputs": [
   ],
   "source": [
    "for lib in library_books:\n",
    "    print(lib, library_books[lib])"
   ]
  },
  {
   "cell_type": "code",
   "execution_count": 0,
   "metadata": {
    "collapsed": false
   },
   "outputs": [
   ],
   "source": [
   ]
  },
  {
   "cell_type": "code",
   "execution_count": 2,
   "metadata": {
    "collapsed": false
   },
   "outputs": [
    {
     "data": {
      "text/plain": [
       "'b'"
      ]
     },
     "execution_count": 2,
     "metadata": {
     },
     "output_type": "execute_result"
    }
   ],
   "source": [
    "d = {'a':2,'b':1}\n",
    "max(d)"
   ]
  },
  {
   "cell_type": "code",
   "execution_count": 0,
   "metadata": {
    "collapsed": false
   },
   "outputs": [
   ],
   "source": [
   ]
  },
  {
   "cell_type": "code",
   "execution_count": 0,
   "metadata": {
    "collapsed": false
   },
   "outputs": [
   ],
   "source": [
   ]
  }
 ],
 "metadata": {
  "kernelspec": {
   "display_name": "SageMath (Development, Py3)",
   "language": "sagemath",
   "metadata": {
    "cocalc": {
     "description": "Open-source mathematical software system",
     "priority": -1,
     "url": "https://www.sagemath.org/"
    }
   },
   "name": "sage-develop"
  },
  "language_info": {
   "codemirror_mode": {
    "name": "ipython",
    "version": 3
   },
   "file_extension": ".py",
   "mimetype": "text/x-python",
   "name": "python",
   "nbconvert_exporter": "python",
   "pygments_lexer": "ipython3",
   "version": "3.7.3"
  }
 },
 "nbformat": 4,
 "nbformat_minor": 0
}