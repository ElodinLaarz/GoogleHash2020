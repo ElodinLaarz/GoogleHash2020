{
 "cells": [
  {
   "cell_type": "code",
   "execution_count": 2,
   "metadata": {
    "collapsed": false
   },
   "outputs": [
   ],
   "source": [
    "import numpy as np\n",
    "from itertools import product\n",
    "import copy\n",
    "import sys"
   ]
  },
  {
   "cell_type": "code",
   "execution_count": 2,
   "metadata": {
    "collapsed": false
   },
   "outputs": [
   ],
   "source": [
    "#Stolen Code\n",
    "class Vehicle():\n",
    "    def __init__(self, id):\n",
    "        self.id = id\n",
    "        self.history = []\n",
    "        self.batch_num = 0\n",
    "        self.last_avail_time = 0\n",
    "\n",
    "    def bind_fn(self, fx): #Fx is expected to be of type f()(current_loc, current_time, start_loc, start_time, end_loc). Assumes the data set does not contain self impossible rides, ie, that if you start a ride on time you can finish it as well\n",
    "        self.fn = fx\n",
    "\n",
    "    def getEndTime(self, start_loc, start_time, end_loc):\n",
    "        return abs(end_loc[0] - start_loc[0]) + abs(end_loc[1] - start_loc[1]) + start_time - 1\n",
    "\n",
    "    def bind(self, batch, ride): #Probably don't need all this info but it is nice to keep track of. End time here will be the ACTUAL finish time of the vehicle, as will start time, capped to a min of ride_start_time. Start time is the delta step when the vehicle is allowed to make its first move\n",
    "        self.ride_id = ride[-1]\n",
    "        self.history.append(self.ride_id)\n",
    "        self.start_loc = (ride[0], ride[1])\n",
    "        self.end_loc = (ride[2], ride[3])\n",
    "        self.start_time = (ride[4] if self.last_avail_time < ride[4] else self.last_avail_time)\n",
    "        self.end_time = self.getEndTime(self.start_loc, self.start_time, self.end_loc)\n",
    "        self.last_avail_time = self.end_time + 1\n",
    "        self.batch = batch\n",
    "        self.batch_num += 1 #Used to externally slice the data set to pass proper batch reference to bind()\n",
    "\n",
    "\n",
    "    def score(self):\n",
    "        try:\n",
    "            tmp = [self.fn(self.end_loc, self.end_time, (e[0],e[1]), e[4], (e[2],e[3])) for e in self.batch] #Batch is assumed to be a list of tuples of type (ride_id, start_loc, start_time, end_loc, etc...)\n",
    "            idx = max(range(len(tmp)), key=tmp.__getitem__)\n",
    "            ret = copy.deepcopy(self.batch[idx])\n",
    "            del(self.batch[idx])\n",
    "            return ret\n",
    "        except AttributeError:\n",
    "            print(\"Missing a bind\")\n",
    "            return None\n",
    "        except ValueError as e: #max(empty), batch is depleted. This can only happen in the very last batch when the total number of rides isn't evenly divded by the number of vehicles.\n",
    "            return None"
   ]
  },
  {
   "cell_type": "code",
   "execution_count": 3,
   "metadata": {
    "collapsed": false
   },
   "outputs": [
   ],
   "source": [
    "#Some example functions to calculate score\n",
    "import math\n",
    "\n",
    "def getDist(current_loc, start_loc):\n",
    "    return abs(start_loc[0] - current_loc[0]) + abs(start_loc[1] - current_loc[1])\n",
    "\n",
    "def fn_bonus_greed_only(current_loc, current_time, start_loc, start_time, end_loc):\n",
    "    #Check to see if the ride is actually possible to start on time\n",
    "    if getDist(current_loc, start_loc) + current_time  > start_time:\n",
    "        return 0\n",
    "    return getDist(start_loc, end_loc) #No need to add bonus to all values\n",
    "\n",
    "def fn_ratio_greed(current_loc, current_time, start_loc, start_time, end_loc):\n",
    "    return (getDist(start_loc, end_loc) + (2 if getDist(current_loc, start_loc) + current_time > start_time else 0 )/getDist(current_loc, start_loc))\n",
    "\n",
    "def fn_log_greed(current_loc, current_time, start_loc, start_time, end_loc):\n",
    "    return math.log(getDist(start_loc, end_loc) + (2 if getDist(current_loc, start_loc) + current_time > start_time else 0 ),getDist(current_loc, start_loc))\n"
   ]
  },
  {
   "cell_type": "code",
   "execution_count": 4,
   "metadata": {
    "collapsed": false,
    "scrolled": true
   },
   "outputs": [
   ],
   "source": [
    "with open('data/b_should_be_easy.in') as file:\n",
    "    data = file.read().split()\n",
    "\n",
    "num_rows = int(data[0])\n",
    "num_cols = int(data[1])\n",
    "num_vehicles = int(data[2])\n",
    "num_rides = int(data[3])\n",
    "bonus = int(data[4])\n",
    "total_steps = int(data[5])\n",
    "num_batches = int(num_rides/num_vehicles)\n",
    "\n",
    "rides = []\n",
    "\n",
    "for i in range(int(num_rides)):\n",
    "    rides.append([int(x) for x in data[6+i*6:12+i*6]]+[i])\n",
    "\n",
    "# for i, r in enumerate(rides):\n",
    "#     start_coords = tuple([r[0],r[1]])\n",
    "#     end_coords = tuple([r[2],r[3]])\n",
    "#     earliest_start = r[4]\n",
    "#     latest_end = r[5]\n",
    "#     rides[i] = [start_coords, end_coords, earliest_start, latest_end]\n",
    "\n",
    "# rides = np.array(rides)\n"
   ]
  },
  {
   "cell_type": "code",
   "execution_count": 5,
   "metadata": {
    "collapsed": false
   },
   "outputs": [
    {
     "data": {
      "text/plain": [
       "[395, 43, 296, 955, 244, 3620, 0]"
      ]
     },
     "execution_count": 5,
     "metadata": {
     },
     "output_type": "execute_result"
    }
   ],
   "source": [
    "rides[0]"
   ]
  },
  {
   "cell_type": "code",
   "execution_count": 6,
   "metadata": {
    "collapsed": false
   },
   "outputs": [
   ],
   "source": [
    "def sim_score(c,ride):\n",
    "    return c[0]*(ride[0]+ride[1])+c[1]*(ride[2]+ride[3])+c[2]*ride[4]+c[3]*ride[5]"
   ]
  },
  {
   "cell_type": "code",
   "execution_count": 15,
   "metadata": {
    "collapsed": false,
    "scrolled": true
   },
   "outputs": [
   ],
   "source": [
    "c = [1,1,1,1]\n",
    "sorted_rides = []\n",
    "\n",
    "# [start_x, start_y, end_x, end_y, start_time, end_time, index]\n",
    "sorted_rides = sorted(rides,key = lambda x : sim_score(c,x))"
   ]
  },
  {
   "cell_type": "code",
   "execution_count": 9,
   "metadata": {
    "collapsed": false,
    "scrolled": true
   },
   "outputs": [
    {
     "name": "stdout",
     "output_type": "stream",
     "text": [
      "[[290, 139, 199], [224, 222, 16], [167, 282, 98], [246, 241, 205], [187, 235, 255], [60, 109, 20], [286, 197, 238], [38, 29, 181], [260, 32, 112], [85, 284, 219], [285, 147, 31], [296, 258, 250], [234, 271, 266], [79, 118, 51], [261, 90, 264], [267, 254, 223], [213, 291, 115], [168, 243, 78], [4, 295, 292], [164, 214, 196], [63, 230, 265], [136, 283, 55], [91, 166, 242], [65, 114, 182], [105, 28, 106], [200, 26, 289], [88, 50, 155], [56, 188, 12], [249, 73, 192], [44, 117, 145], [263, 128, 152], [24, 14, 67], [95, 81, 280], [99, 244, 104], [74, 248, 66], [281, 53, 59], [75, 39, 141], [13, 298, 176], [245, 268, 142], [57, 45, 17], [216, 111, 71], [103, 83, 100], [58, 158, 228], [276, 102, 43], [125, 3, 252], [137, 61, 215], [193, 239, 154], [19, 253, 297], [107, 23, 30], [133, 237, 120], [203, 174, 288], [299, 190, 251], [34, 201, 231], [15, 40, 126], [212, 204, 206], [41, 170, 262], [184, 89, 47], [150, 269, 279], [18, 76, 186], [33, 96, 256], [54, 131, 229], [294, 35, 270], [129, 191, 97], [227, 124, 46], [225, 157, 233], [198, 22, 194], [7, 27, 37], [159, 209, 240], [259, 82, 143], [21, 172, 272], [72, 207, 69], [92, 202, 1], [221, 68, 123], [162, 217, 135], [218, 163, 189], [134, 146, 94], [161, 236, 178], [179, 185, 208], [144, 6, 84], [87, 25, 278], [127, 277, 293], [113, 86, 153], [116, 101, 9], [180, 119, 52], [110, 140, 173], [226, 64, 49], [171, 195, 77], [220, 287, 211], [275, 48, 247], [36, 10, 169], [0, 121, 257], [108, 11, 149], [232, 122, 151], [8, 42, 274], [210, 160, 132], [273, 5, 175], [62, 138, 183], [80, 70, 130], [156, 93, 165], [148, 177, 2]]\n"
     ]
    }
   ],
   "source": [
    "batches = [sorted_rides[num_vehicles*i:num_vehicles*(i+1)] for i in range(num_batches)]\n",
    "batches.append(sorted_rides[num_vehicles*num_batches:])\n",
    "history = []\n",
    "vehicles = [Vehicle(i) for i in range(num_vehicles)]\n",
    "for i, v in enumerate(vehicles):\n",
    "    v.bind(batches[1],batches[0][i])\n",
    "#     print(batches[1])\n",
    "    v.bind_fn(fn_ratio_greed)\n",
    "while(vehicles):\n",
    "    tmp = [v.end_time for v in vehicles]\n",
    "    idx = min(range(len(tmp)), key=tmp.__getitem__)\n",
    "    cur_vehicle = vehicles[idx]\n",
    "    next_ride = cur_vehicle.score()\n",
    "#     print(cur_vehicle)\n",
    "    if(next_ride != None):\n",
    "        cur_vehicle.bind(batches[cur_vehicle.batch_num+1],next_ride)\n",
    "    else:\n",
    "        history.append(cur_vehicle.history)\n",
    "        vehicles.remove(cur_vehicle)\n",
    "print(history)"
   ]
  },
  {
   "cell_type": "code",
   "execution_count": 12,
   "metadata": {
    "collapsed": false
   },
   "outputs": [
    {
     "name": "stdout",
     "output_type": "stream",
     "text": [
      "[285, 20, 605, 565, 5193, 8091, 290] [148, 374, 546, 448, 16900, 17773, 139] [681, 206, 756, 220, 17523, 17742, 199]\n"
     ]
    }
   ],
   "source": [
    "print(rides[290],rides[139],rides[199])"
   ]
  },
  {
   "cell_type": "code",
   "execution_count": 14,
   "metadata": {
    "collapsed": false
   },
   "outputs": [
    {
     "name": "stdout",
     "output_type": "stream",
     "text": [
      "[518, 656, 201, 494, 186, 712, 221] [188, 405, 689, 968, 11576, 13755, 68] [296, 47, 137, 570, 22183, 23150, 123]\n"
     ]
    }
   ],
   "source": [
    "print(rides[221],rides[68],rides[123])"
   ]
  },
  {
   "cell_type": "code",
   "execution_count": 0,
   "metadata": {
    "collapsed": false
   },
   "outputs": [
   ],
   "source": [
   ]
  },
  {
   "cell_type": "code",
   "execution_count": 0,
   "metadata": {
    "collapsed": false
   },
   "outputs": [
   ],
   "source": [
   ]
  },
  {
   "cell_type": "code",
   "execution_count": 10,
   "metadata": {
    "collapsed": false
   },
   "outputs": [
    {
     "ename": "FileNotFoundError",
     "evalue": "[Errno 2] No such file or directory: '-f'",
     "output_type": "error",
     "traceback": [
      "\u001b[0;31m---------------------------------------------------------------------------\u001b[0m",
      "\u001b[0;31mFileNotFoundError\u001b[0m                         Traceback (most recent call last)",
      "\u001b[0;32m<ipython-input-10-c1b0cc7f7f8d>\u001b[0m in \u001b[0;36m<module>\u001b[0;34m()\u001b[0m\n\u001b[0;32m----> 1\u001b[0;31m \u001b[0;32mfrom\u001b[0m \u001b[0mJCPEOptimization\u001b[0m \u001b[0;32mimport\u001b[0m \u001b[0malgorithm\u001b[0m\u001b[0;34m\u001b[0m\u001b[0;34m\u001b[0m\u001b[0m\n\u001b[0m",
      "\u001b[0;32m/home/user/JCPEOptimization.py\u001b[0m in \u001b[0;36m<module>\u001b[0;34m()\u001b[0m\n\u001b[1;32m    103\u001b[0m \u001b[0;34m\u001b[0m\u001b[0m\n\u001b[1;32m    104\u001b[0m \u001b[0;34m\u001b[0m\u001b[0m\n\u001b[0;32m--> 105\u001b[0;31m \u001b[0;32mwith\u001b[0m \u001b[0mopen\u001b[0m\u001b[0;34m(\u001b[0m\u001b[0msys\u001b[0m\u001b[0;34m.\u001b[0m\u001b[0margv\u001b[0m\u001b[0;34m[\u001b[0m\u001b[0;36m1\u001b[0m\u001b[0;34m]\u001b[0m\u001b[0;34m,\u001b[0m \u001b[0;34m\"r\"\u001b[0m\u001b[0;34m)\u001b[0m \u001b[0;32mas\u001b[0m \u001b[0mfile\u001b[0m\u001b[0;34m:\u001b[0m\u001b[0;34m\u001b[0m\u001b[0;34m\u001b[0m\u001b[0m\n\u001b[0m\u001b[1;32m    106\u001b[0m     \u001b[0mdata\u001b[0m \u001b[0;34m=\u001b[0m \u001b[0mfile\u001b[0m\u001b[0;34m.\u001b[0m\u001b[0mread\u001b[0m\u001b[0;34m(\u001b[0m\u001b[0;34m)\u001b[0m\u001b[0;34m.\u001b[0m\u001b[0msplit\u001b[0m\u001b[0;34m(\u001b[0m\u001b[0;34m)\u001b[0m\u001b[0;34m\u001b[0m\u001b[0;34m\u001b[0m\u001b[0m\n\u001b[1;32m    107\u001b[0m \u001b[0;34m\u001b[0m\u001b[0m\n",
      "\u001b[0;31mFileNotFoundError\u001b[0m: [Errno 2] No such file or directory: '-f'"
     ]
    }
   ],
   "source": [
    "from JCPEOptimization import algorithm"
   ]
  },
  {
   "cell_type": "code",
   "execution_count": 0,
   "metadata": {
    "collapsed": false
   },
   "outputs": [
   ],
   "source": [
   ]
  }
 ],
 "metadata": {
  "kernelspec": {
   "display_name": "SageMath (Development, Py3)",
   "language": "sagemath",
   "metadata": {
    "cocalc": {
     "description": "Open-source mathematical software system",
     "priority": -1,
     "url": "https://www.sagemath.org/"
    }
   },
   "name": "sage-develop"
  },
  "language_info": {
   "codemirror_mode": {
    "name": "ipython",
    "version": 3
   },
   "file_extension": ".py",
   "mimetype": "text/x-python",
   "name": "python",
   "nbconvert_exporter": "python",
   "pygments_lexer": "ipython3",
   "version": "3.7.3"
  }
 },
 "nbformat": 4,
 "nbformat_minor": 0
}