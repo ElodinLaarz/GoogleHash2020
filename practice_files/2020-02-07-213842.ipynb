{
 "cells": [
  {
   "cell_type": "code",
   "execution_count": 2,
   "metadata": {
    "collapsed": false
   },
   "outputs": [
   ],
   "source": [
    "class Vehicle():\n",
    "    def __init__(self, id):\n",
    "        self.id = id\n",
    "        self.history = []\n",
    "        self.batch_num = 0\n",
    "        self.last_avail_time = 0\n",
    "\n",
    "    def bind_fn(self, fx): #Fx is expected to be of type f()(current_loc, current_time, start_loc, start_time, end_loc). Assumes the data set does not contain self impossible rides, ie, that if you start a ride on time you can finish it as well\n",
    "        self.fn = fx\n",
    "\n",
    "    def getEndTime(self, start_time, end_loc):\n",
    "        return abs(end_loc[0] - start_loc[0]) + abs(end_loc[1] - start_loc[1]) + start_time - 1\n",
    "\n",
    "    def bind(self, batch, ride): #Probably don't need all this info but it is nice to keep track of. End time here will be the ACTUAL finish time of the vehicle, as will start time, capped to a min of ride_start_time. Start time is the delta step when the vehicle is allowed to make its first move\n",
    "        self.ride = ride[-1]\n",
    "        self.history.append(ride_id)\n",
    "        self.start_loc = (ride[0], ride[1])\n",
    "        self.end_loc = (ride[2], ride[3])\n",
    "        self.start_time = (ride[4] if self.last_avail_time < ride[1][4] else self.last_avail_time)\n",
    "        self.end_time = self.getEndTime(self, self.start_time, self.end_loc)\n",
    "        self.last_avail_time = self.end_time + 1\n",
    "        self.batch = batch\n",
    "        self.batch_num += 1 #Used to externally slice the data set to pass proper batch reference to bind()\n",
    "\n",
    "\n",
    "    def score(self):\n",
    "        try:\n",
    "            tmp = [self.fn(self.end_loc, self.end_time, e[1], e[2], e[3]) for e in batch] #Batch is assumed to be a list of tuples of type (ride_id, start_loc, start_time, end_loc, etc...)\n",
    "            idx = max(range(len(tmp)), key=tmp.__getitem__)\n",
    "            ret = batch[idx]\n",
    "            del(batch[idx])\n",
    "            return ret\n",
    "        except AttributeError:\n",
    "            print(\"Missing a bind\")\n",
    "            return None\n",
    "        except ValueError: #max(empty), batch is depleted. This can only happen in the very last batch when the total number of rides isn't evenly divded by the number of vehicles.\n",
    "            return None\n",
    "\n",
    "\n"
   ]
  },
  {
   "cell_type": "code",
   "execution_count": 3,
   "metadata": {
    "collapsed": false
   },
   "outputs": [
    {
     "ename": "SyntaxError",
     "evalue": "invalid syntax (<ipython-input-3-4f420f87ae0d>, line 16)",
     "output_type": "error",
     "traceback": [
      "\u001b[0;36m  File \u001b[0;32m\"<ipython-input-3-4f420f87ae0d>\"\u001b[0;36m, line \u001b[0;32m16\u001b[0m\n\u001b[0;31m    def fn_log_greed(current_loc, current_time, start_loc, start_time, end_loc):\u001b[0m\n\u001b[0m      ^\u001b[0m\n\u001b[0;31mSyntaxError\u001b[0m\u001b[0;31m:\u001b[0m invalid syntax\n"
     ]
    }
   ],
   "source": [
    "#Some example functions to calculate score\n",
    "import math\n",
    "\n",
    "def getDist(current_loc, start_loc):\n",
    "    return abs(start_loc[0] - current_loc[0]) + abs(start_loc[1] - current_loc[1])\n",
    "\n",
    "def fn_bonus_greed_only(current_loc, current_time, start_loc, start_time, end_loc):\n",
    "    #Check to see if the ride is actually possible to start on time\n",
    "    if getDist(current_loc, start_loc) + current_time  > start_time:\n",
    "        return 0\n",
    "    return getDist(start_loc, end_loc) #No need to add bonus to all values\n",
    "\n",
    "def fn_ratio_greed(current_loc, current_time, start_loc, start_time, end_loc):\n",
    "    return (getDist(start_loc, end_loc) + (2 if getDist(current_loc, start_loc) + current_time > start_time else 0 )/getDist(current_loc, start_loc)\n",
    "\n",
    "def fn_log_greed(current_loc, current_time, start_loc, start_time, end_loc):\n",
    "    return math.log(getDist(start_loc, end_loc) + (2 if getDist(current_loc, start_loc) + current_time > start_time else 0 ),getDist(current_loc, start_loc))"
   ]
  },
  {
   "cell_type": "code",
   "execution_count": 0,
   "metadata": {
    "collapsed": false
   },
   "outputs": [
   ],
   "source": [
   ]
  }
 ],
 "metadata": {
  "kernelspec": {
   "display_name": "Python 3 (system-wide)",
   "language": "python",
   "metadata": {
    "cocalc": {
     "description": "Python 3 programming language",
     "priority": 100,
     "url": "https://www.python.org/"
    }
   },
   "name": "python3"
  },
  "language_info": {
   "codemirror_mode": {
    "name": "ipython",
    "version": 3
   },
   "file_extension": ".py",
   "mimetype": "text/x-python",
   "name": "python",
   "nbconvert_exporter": "python",
   "pygments_lexer": "ipython3",
   "version": "3.6.9"
  }
 },
 "nbformat": 4,
 "nbformat_minor": 0
}